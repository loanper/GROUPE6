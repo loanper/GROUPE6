{
 "cells": [
  {
   "cell_type": "code",
   "execution_count": 1,
   "metadata": {
    "execution": {
     "iopub.execute_input": "2024-07-15T15:12:40.156846Z",
     "iopub.status.busy": "2024-07-15T15:12:40.156209Z",
     "iopub.status.idle": "2024-07-15T15:12:40.339839Z",
     "shell.execute_reply": "2024-07-15T15:12:40.338965Z",
     "shell.execute_reply.started": "2024-07-15T15:12:40.156813Z"
    },
    "trusted": true
   },
   "outputs": [],
   "source": [
    "import numpy as np\n",
    "import pandas as pd\n",
    "import matplotlib.pyplot as plt\n",
    "import seaborn as sns\n",
    "import warnings\n",
    "\n",
    "# Suppress all warnings\n",
    "warnings.filterwarnings(\"ignore\")"
   ]
  },
  {
   "cell_type": "markdown",
   "metadata": {},
   "source": [
    "First lets import the data"
   ]
  },
  {
   "cell_type": "code",
   "execution_count": 2,
   "metadata": {
    "execution": {
     "iopub.execute_input": "2024-07-15T15:12:41.109454Z",
     "iopub.status.busy": "2024-07-15T15:12:41.10854Z",
     "iopub.status.idle": "2024-07-15T15:12:41.136448Z",
     "shell.execute_reply": "2024-07-15T15:12:41.135384Z",
     "shell.execute_reply.started": "2024-07-15T15:12:41.109421Z"
    },
    "trusted": true
   },
   "outputs": [],
   "source": [
    "train = pd.read_csv('data/train.csv')\n",
    "test = pd.read_csv('data/test.csv')"
   ]
  },
  {
   "cell_type": "code",
   "execution_count": 3,
   "metadata": {},
   "outputs": [
    {
     "data": {
      "text/html": [
       "<div>\n",
       "<style scoped>\n",
       "    .dataframe tbody tr th:only-of-type {\n",
       "        vertical-align: middle;\n",
       "    }\n",
       "\n",
       "    .dataframe tbody tr th {\n",
       "        vertical-align: top;\n",
       "    }\n",
       "\n",
       "    .dataframe thead th {\n",
       "        text-align: right;\n",
       "    }\n",
       "</style>\n",
       "<table border=\"1\" class=\"dataframe\">\n",
       "  <thead>\n",
       "    <tr style=\"text-align: right;\">\n",
       "      <th></th>\n",
       "      <th>PassengerId</th>\n",
       "      <th>Survived</th>\n",
       "      <th>Pclass</th>\n",
       "      <th>Name</th>\n",
       "      <th>Sex</th>\n",
       "      <th>Age</th>\n",
       "      <th>SibSp</th>\n",
       "      <th>Parch</th>\n",
       "      <th>Ticket</th>\n",
       "      <th>Fare</th>\n",
       "      <th>Cabin</th>\n",
       "      <th>Embarked</th>\n",
       "    </tr>\n",
       "  </thead>\n",
       "  <tbody>\n",
       "    <tr>\n",
       "      <th>0</th>\n",
       "      <td>1</td>\n",
       "      <td>0</td>\n",
       "      <td>3</td>\n",
       "      <td>Braund, Mr. Owen Harris</td>\n",
       "      <td>male</td>\n",
       "      <td>22.0</td>\n",
       "      <td>1</td>\n",
       "      <td>0</td>\n",
       "      <td>A/5 21171</td>\n",
       "      <td>7.2500</td>\n",
       "      <td>NaN</td>\n",
       "      <td>S</td>\n",
       "    </tr>\n",
       "    <tr>\n",
       "      <th>1</th>\n",
       "      <td>2</td>\n",
       "      <td>1</td>\n",
       "      <td>1</td>\n",
       "      <td>Cumings, Mrs. John Bradley (Florence Briggs Th...</td>\n",
       "      <td>female</td>\n",
       "      <td>38.0</td>\n",
       "      <td>1</td>\n",
       "      <td>0</td>\n",
       "      <td>PC 17599</td>\n",
       "      <td>71.2833</td>\n",
       "      <td>C85</td>\n",
       "      <td>C</td>\n",
       "    </tr>\n",
       "    <tr>\n",
       "      <th>2</th>\n",
       "      <td>3</td>\n",
       "      <td>1</td>\n",
       "      <td>3</td>\n",
       "      <td>Heikkinen, Miss. Laina</td>\n",
       "      <td>female</td>\n",
       "      <td>26.0</td>\n",
       "      <td>0</td>\n",
       "      <td>0</td>\n",
       "      <td>STON/O2. 3101282</td>\n",
       "      <td>7.9250</td>\n",
       "      <td>NaN</td>\n",
       "      <td>S</td>\n",
       "    </tr>\n",
       "    <tr>\n",
       "      <th>3</th>\n",
       "      <td>4</td>\n",
       "      <td>1</td>\n",
       "      <td>1</td>\n",
       "      <td>Futrelle, Mrs. Jacques Heath (Lily May Peel)</td>\n",
       "      <td>female</td>\n",
       "      <td>35.0</td>\n",
       "      <td>1</td>\n",
       "      <td>0</td>\n",
       "      <td>113803</td>\n",
       "      <td>53.1000</td>\n",
       "      <td>C123</td>\n",
       "      <td>S</td>\n",
       "    </tr>\n",
       "    <tr>\n",
       "      <th>4</th>\n",
       "      <td>5</td>\n",
       "      <td>0</td>\n",
       "      <td>3</td>\n",
       "      <td>Allen, Mr. William Henry</td>\n",
       "      <td>male</td>\n",
       "      <td>35.0</td>\n",
       "      <td>0</td>\n",
       "      <td>0</td>\n",
       "      <td>373450</td>\n",
       "      <td>8.0500</td>\n",
       "      <td>NaN</td>\n",
       "      <td>S</td>\n",
       "    </tr>\n",
       "    <tr>\n",
       "      <th>5</th>\n",
       "      <td>6</td>\n",
       "      <td>0</td>\n",
       "      <td>3</td>\n",
       "      <td>Moran, Mr. James</td>\n",
       "      <td>male</td>\n",
       "      <td>NaN</td>\n",
       "      <td>0</td>\n",
       "      <td>0</td>\n",
       "      <td>330877</td>\n",
       "      <td>8.4583</td>\n",
       "      <td>NaN</td>\n",
       "      <td>Q</td>\n",
       "    </tr>\n",
       "    <tr>\n",
       "      <th>6</th>\n",
       "      <td>7</td>\n",
       "      <td>0</td>\n",
       "      <td>1</td>\n",
       "      <td>McCarthy, Mr. Timothy J</td>\n",
       "      <td>male</td>\n",
       "      <td>54.0</td>\n",
       "      <td>0</td>\n",
       "      <td>0</td>\n",
       "      <td>17463</td>\n",
       "      <td>51.8625</td>\n",
       "      <td>E46</td>\n",
       "      <td>S</td>\n",
       "    </tr>\n",
       "    <tr>\n",
       "      <th>7</th>\n",
       "      <td>8</td>\n",
       "      <td>0</td>\n",
       "      <td>3</td>\n",
       "      <td>Palsson, Master. Gosta Leonard</td>\n",
       "      <td>male</td>\n",
       "      <td>2.0</td>\n",
       "      <td>3</td>\n",
       "      <td>1</td>\n",
       "      <td>349909</td>\n",
       "      <td>21.0750</td>\n",
       "      <td>NaN</td>\n",
       "      <td>S</td>\n",
       "    </tr>\n",
       "    <tr>\n",
       "      <th>8</th>\n",
       "      <td>9</td>\n",
       "      <td>1</td>\n",
       "      <td>3</td>\n",
       "      <td>Johnson, Mrs. Oscar W (Elisabeth Vilhelmina Berg)</td>\n",
       "      <td>female</td>\n",
       "      <td>27.0</td>\n",
       "      <td>0</td>\n",
       "      <td>2</td>\n",
       "      <td>347742</td>\n",
       "      <td>11.1333</td>\n",
       "      <td>NaN</td>\n",
       "      <td>S</td>\n",
       "    </tr>\n",
       "    <tr>\n",
       "      <th>9</th>\n",
       "      <td>10</td>\n",
       "      <td>1</td>\n",
       "      <td>2</td>\n",
       "      <td>Nasser, Mrs. Nicholas (Adele Achem)</td>\n",
       "      <td>female</td>\n",
       "      <td>14.0</td>\n",
       "      <td>1</td>\n",
       "      <td>0</td>\n",
       "      <td>237736</td>\n",
       "      <td>30.0708</td>\n",
       "      <td>NaN</td>\n",
       "      <td>C</td>\n",
       "    </tr>\n",
       "  </tbody>\n",
       "</table>\n",
       "</div>"
      ],
      "text/plain": [
       "   PassengerId  Survived  Pclass  \\\n",
       "0            1         0       3   \n",
       "1            2         1       1   \n",
       "2            3         1       3   \n",
       "3            4         1       1   \n",
       "4            5         0       3   \n",
       "5            6         0       3   \n",
       "6            7         0       1   \n",
       "7            8         0       3   \n",
       "8            9         1       3   \n",
       "9           10         1       2   \n",
       "\n",
       "                                                Name     Sex   Age  SibSp  \\\n",
       "0                            Braund, Mr. Owen Harris    male  22.0      1   \n",
       "1  Cumings, Mrs. John Bradley (Florence Briggs Th...  female  38.0      1   \n",
       "2                             Heikkinen, Miss. Laina  female  26.0      0   \n",
       "3       Futrelle, Mrs. Jacques Heath (Lily May Peel)  female  35.0      1   \n",
       "4                           Allen, Mr. William Henry    male  35.0      0   \n",
       "5                                   Moran, Mr. James    male   NaN      0   \n",
       "6                            McCarthy, Mr. Timothy J    male  54.0      0   \n",
       "7                     Palsson, Master. Gosta Leonard    male   2.0      3   \n",
       "8  Johnson, Mrs. Oscar W (Elisabeth Vilhelmina Berg)  female  27.0      0   \n",
       "9                Nasser, Mrs. Nicholas (Adele Achem)  female  14.0      1   \n",
       "\n",
       "   Parch            Ticket     Fare Cabin Embarked  \n",
       "0      0         A/5 21171   7.2500   NaN        S  \n",
       "1      0          PC 17599  71.2833   C85        C  \n",
       "2      0  STON/O2. 3101282   7.9250   NaN        S  \n",
       "3      0            113803  53.1000  C123        S  \n",
       "4      0            373450   8.0500   NaN        S  \n",
       "5      0            330877   8.4583   NaN        Q  \n",
       "6      0             17463  51.8625   E46        S  \n",
       "7      1            349909  21.0750   NaN        S  \n",
       "8      2            347742  11.1333   NaN        S  \n",
       "9      0            237736  30.0708   NaN        C  "
      ]
     },
     "execution_count": 3,
     "metadata": {},
     "output_type": "execute_result"
    }
   ],
   "source": [
    "train.head(10)"
   ]
  },
  {
   "cell_type": "markdown",
   "metadata": {},
   "source": [
    "# EDA"
   ]
  },
  {
   "cell_type": "code",
   "execution_count": 4,
   "metadata": {},
   "outputs": [
    {
     "name": "stdout",
     "output_type": "stream",
     "text": [
      "Null values per column:\n",
      "PassengerId      0\n",
      "Survived         0\n",
      "Pclass           0\n",
      "Name             0\n",
      "Sex              0\n",
      "Age            177\n",
      "SibSp            0\n",
      "Parch            0\n",
      "Ticket           0\n",
      "Fare             0\n",
      "Cabin          687\n",
      "Embarked         2\n",
      "dtype: int64\n"
     ]
    }
   ],
   "source": [
    "print(\"Null values per column:\")\n",
    "print(train.isnull().sum())"
   ]
  },
  {
   "cell_type": "markdown",
   "metadata": {},
   "source": [
    "## finding realtionships"
   ]
  },
  {
   "cell_type": "markdown",
   "metadata": {},
   "source": [
    "### Survival rate by Sex:"
   ]
  },
  {
   "cell_type": "markdown",
   "metadata": {},
   "source": [
    "##### for sex we clearly see that the women had a great advantage for Surviving, \n",
    "##### mostly because of the (women and children first) protocols that  was used before"
   ]
  },
  {
   "cell_type": "code",
   "execution_count": 5,
   "metadata": {},
   "outputs": [
    {
     "name": "stdout",
     "output_type": "stream",
     "text": [
      "Survival rate by Sex:\n",
      "Sex\n",
      "female    0.742038\n",
      "male      0.188908\n",
      "Name: Survived, dtype: float64\n",
      "\n",
      "\n"
     ]
    },
    {
     "data": {
      "image/png": "[encoded data removed]",
      "text/plain": [
       "<Figure size 800x600 with 1 Axes>"
      ]
     },
     "metadata": {},
     "output_type": "display_data"
    }
   ],
   "source": [
    "\n",
    "# Calculate survival rates by Sex\n",
    "survival_by_sex = train.groupby('Sex')['Survived'].mean()\n",
    "print(\"Survival rate by Sex:\")\n",
    "print(survival_by_sex)\n",
    "print(\"\\n\")\n",
    "\n",
    "# Plot survival rate by Sex\n",
    "plt.figure(figsize=(8, 6))\n",
    "sns.barplot(x='Sex', y='Survived', data=train, ci=None, palette='viridis')\n",
    "plt.title('Survival Rate by Sex')\n",
    "plt.ylabel('Survival Rate')\n",
    "plt.show()"
   ]
  },
  {
   "cell_type": "markdown",
   "metadata": {},
   "source": [
    "##### This stark difference highlights gender as a critical factor influencing survival."
   ]
  },
  {
   "cell_type": "markdown",
   "metadata": {},
   "source": [
    "### Survival rate by Age Group:"
   ]
  },
  {
   "cell_type": "markdown",
   "metadata": {},
   "source": [
    "##### Children (babies and young children) had notably higher survival rates, likely due to prioritization in lifeboat allocation.\n",
    "##### Adults and teenagers generally experienced lower survival rates, potentially reflecting the prioritization of vulnerable groups and physical limitations during evacuation.\n",
    "##### The significantly lower survival rate for older passengers (> 60 years) suggests challenges faced by elderly individuals in emergency evacuation scenarios."
   ]
  },
  {
   "cell_type": "code",
   "execution_count": 6,
   "metadata": {},
   "outputs": [
    {
     "name": "stdout",
     "output_type": "stream",
     "text": [
      "Survival rate by Age Group:\n",
      "AgeGroup\n",
      "Baby        0.704545\n",
      "Child       0.424242\n",
      "Teenager    0.403226\n",
      "Adult       0.355556\n",
      "OldAdult    0.420495\n",
      "Old         0.227273\n",
      "Name: Survived, dtype: float64\n",
      "\n",
      "\n"
     ]
    },
    {
     "data": {
      "image/png": "[encoded data removed]",
      "text/plain": [
       "<Figure size 800x600 with 1 Axes>"
      ]
     },
     "metadata": {},
     "output_type": "display_data"
    }
   ],
   "source": [
    "train['AgeGroup'] = pd.cut(train['Age'], bins=[0, 5, 14, 18, 30, 60, 100], labels=['Baby', 'Child', 'Teenager', 'Adult', 'OldAdult', 'Old'])\n",
    "survival_by_age_group = train.groupby('AgeGroup')['Survived'].mean()\n",
    "print(\"Survival rate by Age Group:\")\n",
    "print(survival_by_age_group)\n",
    "print(\"\\n\")\n",
    "\n",
    "# Plot survival rate by Age Group\n",
    "plt.figure(figsize=(8, 6))\n",
    "sns.barplot(x='AgeGroup', y='Survived', data=train, ci=None, order=['Baby', 'Child', 'Teenager', 'Adult', 'OldAdult', 'Old'], palette='viridis')\n",
    "plt.title('Survival Rate by Age Group')\n",
    "plt.ylabel('Survival Rate')\n",
    "plt.xlabel('Age Group')\n",
    "plt.show()\n"
   ]
  },
  {
   "cell_type": "markdown",
   "metadata": {},
   "source": [
    "### Survival rate by Pclass:"
   ]
  },
  {
   "cell_type": "markdown",
   "metadata": {},
   "source": [
    "##### First-class passengers (62.96% survival rate) had higher survival rates, possibly due to their proximity to lifeboats and priority access during evacuation.\n",
    "##### Third-class passengers (24.24% survival rate) faced the lowest survival rates, likely due to their lower deck locations and delayed access to lifeboats.\n",
    "##### Passenger class serves as a proxy for socio-economic status, highlighting disparities in survival linked to wealth and access to resources during the Titanic disaster."
   ]
  },
  {
   "cell_type": "code",
   "execution_count": 7,
   "metadata": {},
   "outputs": [
    {
     "name": "stdout",
     "output_type": "stream",
     "text": [
      "Survival rate by Pclass:\n",
      "Pclass\n",
      "1    0.629630\n",
      "2    0.472826\n",
      "3    0.242363\n",
      "Name: Survived, dtype: float64\n",
      "\n",
      "\n"
     ]
    },
    {
     "data": {
      "image/png": "[encoded data removed]",
      "text/plain": [
       "<Figure size 800x600 with 1 Axes>"
      ]
     },
     "metadata": {},
     "output_type": "display_data"
    }
   ],
   "source": [
    "survival_by_pclass = train.groupby('Pclass')['Survived'].mean()\n",
    "print(\"Survival rate by Pclass:\")\n",
    "print(survival_by_pclass)\n",
    "print(\"\\n\")\n",
    "\n",
    "plt.figure(figsize=(8, 6))\n",
    "sns.barplot(x='Pclass', y='Survived', data=train, palette='viridis')\n",
    "plt.title('Survival Rate by Passenger Class')\n",
    "plt.xlabel('Passenger Class')\n",
    "plt.ylabel('Survival Rate')\n",
    "plt.show()"
   ]
  },
  {
   "cell_type": "markdown",
   "metadata": {},
   "source": [
    "### Survival rate by Fare Group:"
   ]
  },
  {
   "cell_type": "markdown",
   "metadata": {},
   "source": [
    "##### Passengers who paid higher fares (e.g., Very High and Luxury fare classes) had significantly higher survival rates, likely reflecting their accommodations closer to lifeboats and priority boarding.\n",
    "##### Conversely, passengers who paid lower fares (e.g., Very Low fare class) had a 0% survival rate, underscoring challenges faced by passengers in lower fare categories during the evacuation.\n",
    "##### Fare class serves as a proxy for passenger location on the ship and access to evacuation resources, illustrating its impact on survival outcomes."
   ]
  },
  {
   "cell_type": "code",
   "execution_count": 8,
   "metadata": {},
   "outputs": [
    {
     "name": "stdout",
     "output_type": "stream",
     "text": [
      "16\n",
      "Survival rate by Fare Group:\n",
      "FareClass\n",
      "Very Low     0.000000\n",
      "Low          0.256236\n",
      "Moderate     0.464646\n",
      "Medium       0.419540\n",
      "High         0.654206\n",
      "Very High    0.727273\n",
      "Luxury       0.777778\n",
      "Name: Survived, dtype: float64\n"
     ]
    },
    {
     "data": {
      "image/png": "[encoded data removed]",
      "text/plain": [
       "<Figure size 800x600 with 1 Axes>"
      ]
     },
     "metadata": {},
     "output_type": "display_data"
    }
   ],
   "source": [
    "train = pd.read_csv('data/train.csv')\n",
    "\n",
    "print((train['Fare'].values < 5).sum())\n",
    "\n",
    "train['FareClass'] = pd.cut(train['Fare'], bins= [0, 5, 15, 25, 50, 100, 250, float('inf')],\n",
    "                         labels=['Very Low', 'Low', 'Moderate', 'Medium', 'High', 'Very High', 'Luxury'])\n",
    "survival_by_fare = train.groupby('FareClass')['Survived'].mean()\n",
    "print(\"Survival rate by Fare Group:\")\n",
    "print(survival_by_fare)\n",
    "\n",
    "plt.figure(figsize=(8, 6))\n",
    "sns.barplot(x='FareClass', y='Survived', data=train, ci=None, order=['Very Low', 'Low', 'Moderate', 'Medium', 'High', 'Very High', 'Luxury'], palette='viridis')\n",
    "plt.title('Survival Rate by Fare Group')\n",
    "plt.ylabel('Survival Rate')\n",
    "plt.xlabel('Fare Group')\n",
    "plt.show()"
   ]
  },
  {
   "cell_type": "markdown",
   "metadata": {},
   "source": [
    "## Data Preprocessing and Feature Engineering:"
   ]
  },
  {
   "cell_type": "markdown",
   "metadata": {},
   "source": [
    "1. Handling Missing Values:\n",
    " Age and Fare: Missing age values were imputed using the K-Nearest Neighbors (KNN) approach, leveraging \n",
    "information from similar observations to fill in gaps in the dataset. Fare values missing due to rare occurrences \n",
    "were replaced with the median fare.\n",
    "- Embarked: Missing embarkation values were filled with the most frequent embarkation port recorded in the \n",
    "dataset.\n",
    "- Cabin: Cabin information, initially sparse, was simplified by mapping cabins to their first letter and filling \n",
    "missing values with 'N', indicating no cabin data.\n",
    "2. Feature Engineering:\n",
    "- Family Size: Created a 'Family' feature by summing 'Parch' (number of parents/children aboard) and 'SibSp' \n",
    "(number of siblings/spouses aboard), providing insight into passenger family relationships.\n",
    "- Title Extraction: Extracted passenger titles (e.g., Mr., Mrs., Miss) from names, categorizing rare titles into a \n",
    "consolidated 'Rare' category and merging similar titles (e.g., 'Mlle' and 'Ms' into 'Miss').\n",
    "- Age and Fare Categorization: Binned age and fare values into discrete categories ('Baby', 'Child', 'Teenager', \n",
    "'Adult', 'OldAdult', 'Old' for age; 'Very Low' to 'Luxury' for fare), allowing for categorical analysis of survival \n",
    "trends based on age and economic status.\n",
    "- Alone Status: Determined whether passengers traveled alone ('Alone') based on the absence of family \n",
    "members onboard.\n",
    "3. One-Hot Encoding:\n",
    "- Transformed categorical variables such as 'Sex', 'Embarked', 'Title', and 'Cabin' into binary indicators using one\u0002hot encoding, facilitating the incorporation of categorical data into machine learning models without imposing \n",
    "ordinality.\n",
    "4. Feature Selection and Scaling:\n",
    "- Selected relevant features including demographic attributes ('Age', 'Sex', 'Pclass'), family information ('Family', \n",
    "'Alone'), socio-economic indicators ('Fare', 'Title'), and cabin categories.\n",
    "- Scaled numeric features ('Age', 'Fare', 'Parch', 'SibSp') using standard scaling to normalize data distributions and \n",
    "ensure all features contribute equally to model training.\n"
   ]
  },
  {
   "cell_type": "code",
   "execution_count": 9,
   "metadata": {
    "execution": {
     "iopub.execute_input": "2024-07-15T15:05:53.873301Z",
     "iopub.status.busy": "2024-07-15T15:05:53.872571Z",
     "iopub.status.idle": "2024-07-15T15:05:54.094465Z",
     "shell.execute_reply": "2024-07-15T15:05:54.093457Z",
     "shell.execute_reply.started": "2024-07-15T15:05:53.873261Z"
    },
    "trusted": true
   },
   "outputs": [],
   "source": [
    "#the function used in the preprocessing\n",
    "\n",
    "from sklearn.impute import KNNImputer\n",
    "from sklearn.preprocessing import StandardScaler\n",
    "\n",
    "def pre(df):\n",
    "\n",
    "    df['Family'] = df['Parch'] + df['SibSp']\n",
    "    \n",
    "    # Extract titles from names\n",
    "    df['Title'] = df['Name'].str.extract(' ([A-Za-z]+)\\.', expand=False)\n",
    "    df['Title'] = df['Title'].replace(['Lady', 'Countess', 'Capt', 'Col', 'Don', \n",
    "                                       'Dr', 'Major', 'Rev', 'Sir', 'Jonkheer', 'Dona'], 'Rare')\n",
    "    df['Title'] = df['Title'].replace('Mlle', 'Miss')\n",
    "    df['Title'] = df['Title'].replace('Ms', 'Miss')\n",
    "    df['Title'] = df['Title'].replace('Mme', 'Mrs')\n",
    "\n",
    "    # Fill missing embarked with the most frequent value\n",
    "    df['Embarked'].fillna(df['Embarked'].mode()[0], inplace=True)\n",
    "\n",
    "    # Fill missing fare with the median\n",
    "    df['Fare'].fillna(df['Fare'].median(), inplace=True)\n",
    "\n",
    "    # Create fare classes\n",
    "    df['Very Low'] = (df['Fare'] <= 4)\n",
    "    df['Low'] = (df['Fare'] > 4) & (df['Fare'] <= 15)\n",
    "    df['Moderate'] = (df['Fare'] > 15) & (df['Fare'] <= 25)\n",
    "    df['Medium'] = (df['Fare'] > 25) & (df['Fare'] <= 50)\n",
    "    df['High'] = (df['Fare'] > 50) & (df['Fare'] <= 100)\n",
    "    df['Very High'] = (df['Fare'] > 100) & (df['Fare'] <= 250)\n",
    "    df['Luxury'] = (df['Fare'] > 250)\n",
    "\n",
    "    # Convert cabin to first letter and fill missing values with 'N'\n",
    "    df['Cabin'] = df['Cabin'].fillna('N').map(lambda x: x[0])\n",
    "    \n",
    "    # Fill missing age with the median or using KNN Imputer\n",
    "    age_imputer = KNNImputer(n_neighbors=5)\n",
    "    df['Age'] = age_imputer.fit_transform(df[['Age']])\n",
    "    \n",
    "    # Create age categories\n",
    "    df['Baby'] = (df['Age'] <= 5)\n",
    "    df['Child'] = (df['Age'] > 5) & (df['Age'] <= 14)\n",
    "    df['Teenager'] = (df['Age'] > 14) & (df['Age'] <= 18)\n",
    "    df['Adult'] = (df['Age'] > 18) & (df['Age'] <= 30)\n",
    "    df['OldAdult'] = (df['Age'] > 30) & (df['Age'] <= 60)\n",
    "    df['Old'] = (df['Age'] > 60)\n",
    "    df['Alone'] = df['Family'] == 0\n",
    "    \n",
    "    # One-hot encoding\n",
    "    df = pd.get_dummies(df, columns=['Sex', 'Embarked', 'Title', 'Cabin'], drop_first=True)\n",
    "    #in case there is a cabin that was not mentioned, create it and fill it with False\n",
    "    for l in ['A', 'B', 'C', 'D', 'E', 'F', 'G', 'T']:\n",
    "        col = f'Cabin_{l}'\n",
    "        if col not in df.columns:\n",
    "            df[col] = pd.Series([False]*df.shape[0])\n",
    "            df[col].fillna(False, inplace=True)\n",
    "    \n",
    "    # Select relevant columns\n",
    "    cols = ['Age', 'Fare', 'Family', 'Parch', 'SibSp', 'Alone', 'Pclass', 'Very Low', 'Low', 'Moderate', 'Medium',\n",
    "       'High', 'Very High', 'Luxury', 'Baby', 'Child', 'Teenager',\n",
    "       'Adult', 'OldAdult', 'Old', 'Sex_male',\n",
    "       'Embarked_Q', 'Embarked_S', 'Title_Miss', 'Title_Mr', 'Title_Mrs',\n",
    "       'Title_Rare', 'Cabin_A', 'Cabin_B', 'Cabin_C', 'Cabin_D', 'Cabin_E', 'Cabin_F',\n",
    "       'Cabin_G', 'Cabin_T'] #Cabin_N was ignored\n",
    "    df2 = df[cols].copy()\n",
    "    \n",
    "    # Scale numeric features\n",
    "    numeric_features = ['Age', 'Fare', 'Parch', 'SibSp']\n",
    "    scaler = StandardScaler()\n",
    "    df2[numeric_features] = scaler.fit_transform(df2[numeric_features])\n",
    "    \n",
    "    return df2\n"
   ]
  },
  {
   "cell_type": "markdown",
   "metadata": {},
   "source": [
    "## Modling"
   ]
  },
  {
   "cell_type": "markdown",
   "metadata": {},
   "source": [
    "##### first lets try diffrent models\n",
    "- Logistic Regression\n",
    "- Support Vector Machine (SVM)\n",
    "- K-Nearest Neighbors (KNN)\n",
    "- Random Forest\n",
    "- Gradient Boosting"
   ]
  },
  {
   "cell_type": "code",
   "execution_count": 10,
   "metadata": {},
   "outputs": [
    {
     "data": {
      "text/html": [
       "<div>\n",
       "<style scoped>\n",
       "    .dataframe tbody tr th:only-of-type {\n",
       "        vertical-align: middle;\n",
       "    }\n",
       "\n",
       "    .dataframe tbody tr th {\n",
       "        vertical-align: top;\n",
       "    }\n",
       "\n",
       "    .dataframe thead th {\n",
       "        text-align: right;\n",
       "    }\n",
       "</style>\n",
       "<table border=\"1\" class=\"dataframe\">\n",
       "  <thead>\n",
       "    <tr style=\"text-align: right;\">\n",
       "      <th></th>\n",
       "      <th>Classifier</th>\n",
       "      <th>Test Accuracy</th>\n",
       "    </tr>\n",
       "  </thead>\n",
       "  <tbody>\n",
       "    <tr>\n",
       "      <th>0</th>\n",
       "      <td>Logistic Regression</td>\n",
       "      <td>0.826816</td>\n",
       "    </tr>\n",
       "    <tr>\n",
       "      <th>1</th>\n",
       "      <td>SVM</td>\n",
       "      <td>0.821229</td>\n",
       "    </tr>\n",
       "    <tr>\n",
       "      <th>2</th>\n",
       "      <td>KNN</td>\n",
       "      <td>0.821229</td>\n",
       "    </tr>\n",
       "    <tr>\n",
       "      <th>3</th>\n",
       "      <td>Random Forest</td>\n",
       "      <td>0.826816</td>\n",
       "    </tr>\n",
       "    <tr>\n",
       "      <th>4</th>\n",
       "      <td>Gradient Boosting</td>\n",
       "      <td>0.821229</td>\n",
       "    </tr>\n",
       "  </tbody>\n",
       "</table>\n",
       "</div>"
      ],
      "text/plain": [
       "            Classifier  Test Accuracy\n",
       "0  Logistic Regression       0.826816\n",
       "1                  SVM       0.821229\n",
       "2                  KNN       0.821229\n",
       "3        Random Forest       0.826816\n",
       "4    Gradient Boosting       0.821229"
      ]
     },
     "execution_count": 10,
     "metadata": {},
     "output_type": "execute_result"
    }
   ],
   "source": [
    "from sklearn.model_selection import train_test_split\n",
    "from sklearn.linear_model import LogisticRegression\n",
    "from sklearn.svm import SVC\n",
    "from sklearn.neighbors import KNeighborsClassifier\n",
    "from sklearn.ensemble import RandomForestClassifier, GradientBoostingClassifier\n",
    "from sklearn.metrics import accuracy_score\n",
    "\n",
    "#load the data again\n",
    "train = pd.read_csv('data/train.csv')\n",
    "\n",
    "# Perform data preprocessing and feature engineering (assuming you've already done this)\n",
    "train_processed = pre(train)\n",
    "\n",
    "# Define features and target variable\n",
    "X = train_processed\n",
    "y = train['Survived']\n",
    "\n",
    "# Split the data into train and test sets (80% train, 20% test)\n",
    "X_train, X_test, y_train, y_test = train_test_split(X, y, test_size=0.2)\n",
    "\n",
    "# Initialize classifiers\n",
    "classifiers = {\n",
    "    'Logistic Regression': LogisticRegression(),\n",
    "    'SVM': SVC(),\n",
    "    'KNN': KNeighborsClassifier(),\n",
    "    'Random Forest': RandomForestClassifier(),\n",
    "    'Gradient Boosting': GradientBoostingClassifier()\n",
    "}\n",
    "\n",
    "# Dictionary to store results\n",
    "results = {'Classifier': [], 'Test Accuracy': []}\n",
    "\n",
    "# Iterate over classifiers\n",
    "for clf_name, clf in classifiers.items():\n",
    "    # Fit the model\n",
    "    clf.fit(X_train, y_train)\n",
    "    \n",
    "    # Predict on test set\n",
    "    y_pred = clf.predict(X_test)\n",
    "    \n",
    "    # Calculate accuracy\n",
    "    accuracy = accuracy_score(y_test, y_pred)\n",
    "    \n",
    "    # Store results\n",
    "    results['Classifier'].append(clf_name)\n",
    "    results['Test Accuracy'].append(accuracy)\n",
    "\n",
    "# Create DataFrame from results\n",
    "results_df = pd.DataFrame(results)\n",
    "\n",
    "# Display the results\n",
    "results_df\n"
   ]
  },
  {
   "cell_type": "markdown",
   "metadata": {},
   "source": [
    "##### Analysis:\n",
    "- Random Forest emerged as the top performer among the classifiers evaluated, achieving a test accuracy of \n",
    "79.6%. This ensemble method likely benefited from its ability to capture complex interactions in the data and \n",
    "handle non-linear relationships effectively.\n",
    "- SVM and Gradient Boosting also demonstrated strong performance with accuracies of 78.4% and 78.3%, \n",
    "respectively. SVM's capability to find optimal boundaries in high-dimensional spaces and Gradient Boosting's \n",
    "iterative improvement on misclassified instances contributed to their competitive accuracy.\n",
    "- Logistic Regression, a simpler linear model, achieved a respectable accuracy of 77.6%. While less complex, its \n",
    "interpretability and efficiency in handling linear relationships make it a viable baseline model.\n",
    "- KNN performed slightly lower with a test accuracy of 74.5%, indicating that its performance might be sensitive \n",
    "to the choice of distance metric and number of neighbors selected."
   ]
  },
  {
   "cell_type": "markdown",
   "metadata": {},
   "source": [
    "##### To expedite the tuning process, a Decision Tree was initially selected for its efficiency compared to ensemble methods like Random Forest"
   ]
  },
  {
   "cell_type": "markdown",
   "metadata": {},
   "source": [
    "##### Best Parameters Found:\n",
    "- Criterion: 'Gini'\n",
    "- Splitter: 'Best'\n",
    "- Max Depth: 12\n",
    "- Min Samples Split: 8\n",
    "- Min Samples Leaf: 1\n",
    "- Max Features: 'sqrt'\n",
    "- Random State: 0\n",
    "- Max Leaf Nodes: 84\n",
    "- Class Weight: {0: 1, 1: 1.5}\n",
    "- CCP Alpha: 4e-05\n",
    "- Accuracy: 81.7%\n"
   ]
  },
  {
   "cell_type": "markdown",
   "metadata": {},
   "source": [
    "##### Using the optimized Decision Tree parameters as a base, three ensemble methods were explored through additional GridSearchCV:"
   ]
  },
  {
   "cell_type": "markdown",
   "metadata": {},
   "source": [
    "- BaggingClassifier"
   ]
  },
  {
   "cell_type": "markdown",
   "metadata": {},
   "source": [
    "- RandomForestClassifier"
   ]
  },
  {
   "cell_type": "markdown",
   "metadata": {},
   "source": [
    "- ExtraTreesClassifier"
   ]
  },
  {
   "cell_type": "markdown",
   "metadata": {},
   "source": [
    "#### Final model : "
   ]
  },
  {
   "cell_type": "code",
   "execution_count": 11,
   "metadata": {},
   "outputs": [
    {
     "data": {
      "text/plain": [
       "0.8659217877094972"
      ]
     },
     "execution_count": 11,
     "metadata": {},
     "output_type": "execute_result"
    }
   ],
   "source": [
    "rf_model = RandomForestClassifier(\n",
    "    n_estimators=110,\n",
    "    max_depth=12,\n",
    "    min_samples_split=8,\n",
    "    min_samples_leaf=1,\n",
    "    max_features=0.15,\n",
    "    random_state=900,\n",
    "    bootstrap=True\n",
    ") \n",
    "rf_model.fit(X_train, y_train)\n",
    "\n",
    "y_pred = rf_model.predict(X_test)\n",
    "\n",
    "accuracy = accuracy_score(y_test, y_pred)\n",
    "accuracy\n"
   ]
  },
  {
   "cell_type": "markdown",
   "metadata": {},
   "source": [
    "##### Now lets prepare the whole train and test data"
   ]
  },
  {
   "cell_type": "code",
   "execution_count": 12,
   "metadata": {},
   "outputs": [],
   "source": [
    "train = pd.read_csv('data/train.csv')\n",
    "\n",
    "train_processed = pre(train)\n",
    "\n",
    "X = train_processed\n",
    "y = train['Survived']\n",
    "\n",
    "test = pd.read_csv('data/test.csv')\n",
    "\n",
    "test_processed = pre(test)\n",
    "\n",
    "ids = test['PassengerId']\n",
    "X_t = test_processed"
   ]
  },
  {
   "cell_type": "markdown",
   "metadata": {},
   "source": [
    "##### Now lets fit the model on the whole data and predict the test data on kaggle"
   ]
  },
  {
   "cell_type": "code",
   "execution_count": 13,
   "metadata": {},
   "outputs": [],
   "source": [
    "rf_model.fit(X, y)\n",
    "\n",
    "preds = rf_model.predict(X_t)\n",
    "\n",
    "ids = test['PassengerId']\n",
    "\n",
    "PredictionDF = pd.DataFrame({'PassengerId' : ids, 'Survived' : preds})\n",
    "\n",
    "PredictionDF.to_csv('final_submissions.csv', index=False)\n",
    "\n"
   ]
  },
  {
   "cell_type": "markdown",
   "metadata": {},
   "source": [
    "#### you can find the file 'final_submissions.csv' in the input of this notebook"
   ]
  },
  {
   "cell_type": "markdown",
   "metadata": {},
   "source": [
    "##### finally, lets create a pipeline for all the work above and ssave it as picke file to import it later"
   ]
  },
  {
   "cell_type": "markdown",
   "metadata": {},
   "source": [
    "#### you can find the file 'Titanic_pipeline_model.pkl' in the input of this notebook"
   ]
  },
  {
   "cell_type": "markdown",
   "metadata": {},
   "source": [
    "#### Now if you want, you could just download the files {Titanic_pipeline_model.pkl, test.csv} and run this only cell to get the prediction directly"
   ]
  },
  {
   "cell_type": "code",
   "execution_count": null,
   "metadata": {},
   "outputs": [],
   "source": []
  }
 ],
 "metadata": {
  "kaggle": {
   "accelerator": "none",
   "dataSources": [
    {
     "databundleVersionId": 26502,
     "sourceId": 3136,
     "sourceType": "competition"
    },
    {
     "datasetId": 5393045,
     "sourceId": 8960184,
     "sourceType": "datasetVersion"
    },
    {
     "modelId": 89875,
     "modelInstanceId": 65323,
     "sourceId": 77689,
     "sourceType": "modelInstanceVersion"
    }
   ],
   "dockerImageVersionId": 30746,
   "isGpuEnabled": false,
   "isInternetEnabled": false,
   "language": "python",
   "sourceType": "notebook"
  },
  "kernelspec": {
   "display_name": "base",
   "language": "python",
   "name": "python3"
  },
  "language_info": {
   "codemirror_mode": {
    "name": "ipython",
    "version": 3
   },
   "file_extension": ".py",
   "mimetype": "text/x-python",
   "name": "python",
   "nbconvert_exporter": "python",
   "pygments_lexer": "ipython3",
   "version": "3.13.5"
  }
 },
 "nbformat": 4,
 "nbformat_minor": 4
}
